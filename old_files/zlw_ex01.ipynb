{
 "cells": [
  {
   "cell_type": "code",
   "execution_count": 5,
   "metadata": {
    "collapsed": false
   },
   "outputs": [],
   "source": [
    "#!/usr/bin/env python\n",
    "\n",
    "import zillow\n",
    "import pprint\n",
    "import zipcode\n",
    "from address import AddressParser, Address"
   ]
  },
  {
   "cell_type": "code",
   "execution_count": null,
   "metadata": {
    "collapsed": false
   },
   "outputs": [],
   "source": [
    "if __name__==\"__main__\":\n",
    "    key = \"\"\n",
    "    with open(\"/Users/giglio/Desktop/ACC_JISAO/code/zillow_us/zillow_env/bin/config/zillow_key.conf\", 'r') as f:\n",
    "        key = f.readline().replace(\"\\n\", \"\")\n",
    "\n",
    "    address = \"3400 Pacific Ave., Marina Del Rey, CA\"\n",
    "    postal_code = \"90292\"\n",
    "\n",
    "    api = zillow.ValuationApi()\n",
    "    data = api.GetSearchResults(key, address, postal_code)\n",
    "\n",
    "    pp = pprint.PrettyPrinter(indent=4)\n",
    "    pp.pprint(data.get_dict())\n",
    "\n",
    "    detail_data = api.GetZEstimate(key, data.zpid)\n",
    "\n",
    "    comp_data = api.GetComps(key, data.zpid)\n",
    "\n",
    "    pp.pprint(comp_data['comps'][1].get_dict())\n",
    "\n",
    "    deep_results = api.GetDeepSearchResults(key, \"1920 1st Street South Apt 407, Minneapolis, MN\", \"55454\")\n",
    "    pp.pprint(deep_results.get_dict())\n",
    "\n"
   ]
  },
  {
   "cell_type": "code",
   "execution_count": null,
   "metadata": {
    "collapsed": false
   },
   "outputs": [],
   "source": [
    "api = zillow.ValuationApi()\n",
    "\n",
    "address = \"3878 BOSQUE CT , BOULDER, CO\"\n",
    "postal_code = \"80301\"\n",
    "\n",
    "#data = api.GetSearchResults(key, address, postal_code)\n",
    "data = api.GetDeepSearchResults(key, address, postal_code)\n",
    "\n",
    "pp = pprint.PrettyPrinter(indent=4)\n",
    "pp.pprint(data.get_dict())\n",
    "\n",
    "detail_data = api.GetZEstimate(key, data.zpid)\n",
    "\n",
    "comp_data = api.GetComps(key, data.zpid)\n",
    "\n",
    "#pp.pprint(comp_data['comps'][1].get_dict())"
   ]
  },
  {
   "cell_type": "code",
   "execution_count": null,
   "metadata": {
    "collapsed": false
   },
   "outputs": [],
   "source": [
    "zipB = zipcode.hascity('Boulder', 'CO')"
   ]
  },
  {
   "cell_type": "code",
   "execution_count": null,
   "metadata": {
    "collapsed": false
   },
   "outputs": [],
   "source": [
    "zipB"
   ]
  },
  {
   "cell_type": "code",
   "execution_count": null,
   "metadata": {
    "collapsed": false
   },
   "outputs": [],
   "source": [
    "AddressParser('123 West Mifflin Street, Madison, WI, 53703')"
   ]
  },
  {
   "cell_type": "code",
   "execution_count": null,
   "metadata": {
    "collapsed": false
   },
   "outputs": [],
   "source": [
    "a1 = AddressParser('Boulder, CO, 80301')"
   ]
  },
  {
   "cell_type": "code",
   "execution_count": null,
   "metadata": {
    "collapsed": false
   },
   "outputs": [],
   "source": [
    "a1.cities"
   ]
  },
  {
   "cell_type": "code",
   "execution_count": null,
   "metadata": {
    "collapsed": true
   },
   "outputs": [],
   "source": []
  }
 ],
 "metadata": {
  "kernelspec": {
   "display_name": "Python 3",
   "language": "python",
   "name": "python3"
  },
  "language_info": {
   "codemirror_mode": {
    "name": "ipython",
    "version": 3
   },
   "file_extension": ".py",
   "mimetype": "text/x-python",
   "name": "python",
   "nbconvert_exporter": "python",
   "pygments_lexer": "ipython3",
   "version": "3.4.4"
  }
 },
 "nbformat": 4,
 "nbformat_minor": 0
}
