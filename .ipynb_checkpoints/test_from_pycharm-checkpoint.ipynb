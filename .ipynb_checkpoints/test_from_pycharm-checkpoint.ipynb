{
 "cells": [
  {
   "cell_type": "code",
   "execution_count": 1,
   "metadata": {
    "collapsed": false
   },
   "outputs": [
    {
     "name": "stdout",
     "output_type": "stream",
     "text": [
      "amount\n",
      "[822694, 723022, 722336, 503982, 504321, 968684, 798104, 899697, 616180, 515820, 640535, 711826, 890224, 617984, 840146, 620984, 850691, 854731, 859423, 500595, 736072, 722023, 567973, 714162, 738482]\n",
      "longitude\n",
      "['-105.251649', '-105.23465', '-105.34095', '-105.137352', '-105.435145', '-105.282296', '-105.255903', '-105.32766', '-105.294179', '-105.179773', '-105.200259', '-105.253603', '-105.176518', '-105.260041', '-105.259785', '-105.259252', '-105.294492', '-105.180356', '-105.258903', '-105.177428', '-105.336349', '-105.182895', '-105.172934', '-105.384', '-105.332339']\n",
      "latitude\n",
      "['40.045145', '40.006615', '40.073802', '40.011251', '40.007198', '40.004448', '39.976379', '39.958143', '40.128066', '40.074833', '40.05623', '39.973506', '39.991908', '39.99554', '40.042657', '39.994573', '40.124327', '40.053978', '40.040883', '40.05563', '40.092029', '40.068334', '40.060154', '40.045082', '40.079664']\n",
      "bathrooms\n",
      "['3.0', '3.0', '2.0', '4.0', '2.0', '3.0', '2.0', '3.0', '2.0', '2.0', '4.0', '2.0', '3.0', '2.0', '3.0', '2.0', '3.0', '4.0', '3.0', '2.0', '3.0', '4.0', '3.0', '2.0', '2.0']\n",
      "last_sold_date\n",
      "['12/04/1996', '07/25/2006', '12/01/2016', None, '08/13/1990', None, '09/16/1997', '05/13/2015', '08/07/2003', '01/09/1990', '04/01/2011', None, None, '02/24/1994', '08/03/2012', '12/08/1982', '03/23/2018', '05/22/2012', '10/05/2010', '08/28/1991', '07/20/1998', None, None, '11/13/2001', '11/21/2006']\n",
      "tax_assessment\n",
      "['630800.0', '617400.0', '529800.0', '417600.0', '456100.0', '826500.0', '722000.0', '683100.0', '523500.0', '397300.0', '526700.0', '662000.0', '626200.0', '469700.0', '745100.0', '484200.0', '448500.0', '743300.0', '545100.0', '404600.0', '499500.0', '600700.0', '421900.0', '402600.0', '524700.0']\n",
      "finished_sqft\n",
      "['3049', '2153', '2036', '2882', '1600', '2661', '1405', '2912', '2592', '1818', '2826', '1796', '2209', '1578', '2561', '1278', '2496', '3968', '2846', '1700', '2586', '2923', '2485', '2016', '2734']\n",
      "usecode\n",
      "['SingleFamily', 'SingleFamily', 'SingleFamily', 'SingleFamily', 'SingleFamily', 'SingleFamily', 'SingleFamily', 'SingleFamily', 'SingleFamily', 'SingleFamily', 'SingleFamily', 'SingleFamily', 'SingleFamily', 'SingleFamily', 'SingleFamily', 'SingleFamily', 'SingleFamily', 'SingleFamily', 'SingleFamily', 'SingleFamily', 'SingleFamily', 'SingleFamily', 'SingleFamily', 'SingleFamily', 'SingleFamily']\n",
      "last_sold_price\n",
      "['200000', '397500', '610000', None, '120000', None, '169000', '617500', '413000', '93500', '348000', None, None, '150000', '548000', '70000', '560000', '472000', '500000', '94000', '252000', None, None, '345000', '389900']\n",
      "tax_assessment_year\n",
      "['2017', '2017', '2017', '2017', '2017', '2017', '2017', '2017', '2017', '2017', '2017', '2017', '2017', '2017', '2017', '2017', '2017', '2017', '2017', '2017', '2017', '2017', '2017', '2017', '2017']\n",
      "amount_change_30days\n",
      "[102987, -3186, 7746, -30571, -11644, 34623, -533, -13986, -24683, -2771, -1419, -7241, 14683, 5655, -21633, 11491, 55617, 5219, -18548, -6294, 32051, 23312, 5169, 1989, 52618]\n",
      "lot_size_sqft\n",
      "['6098', '9857', '46752', '15093', '80586', '6098', '6969', '106491', '29620', '11325', '6560', '6982', '49658', '7209', '4565', '7405', '32003', '10193', '3484', '9474', '84070', '7840', '10018', '87120', '54014']\n",
      "bedrooms\n",
      "['3', '3', '4', '5', '3', '4', '3', '4', '4', '3', '4', '4', '4', '6', '4', '3', '3', '5', '4', '4', '3', '4', '4', '3', '3']\n",
      "year_built\n",
      "['1984', '1973', '1964', '1965', '1984', '1905', '1963', '1993', '1975', '1972', '1994', '1967', '1956', '1954', '1983', '1954', '1979', '1987', '1985', '1971', '1973', '1993', '1969', '2014', '1972']\n"
     ]
    }
   ],
   "source": [
    "import zillow\n",
    "import pprint\n",
    "import zipcode\n",
    "from address import AddressParser, Address\n",
    "%matplotlib inline\n",
    "import matplotlib.pyplot as plt\n",
    "\n",
    "\n",
    "# In[2]:\n",
    "\n",
    "with open('out3.txt') as f:\n",
    "    addr_houses = f.readlines()\n",
    "\n",
    "\n",
    "# In[3]:\n",
    "\n",
    "addr_houses = [x.strip() for x in addr_houses] \n",
    "\n",
    "\n",
    "# In[4]:\n",
    "\n",
    "#addr_houses[0:3]\n",
    "\n",
    "\n",
    "# In[5]:\n",
    "\n",
    "#addr_houses[3][:-5]\n",
    "\n",
    "\n",
    "# In[6]:\n",
    "\n",
    "#addr_houses[3][-5:]\n",
    "\n",
    "\n",
    "# In[7]:\n",
    "\n",
    "vars_extended_data = {'bathrooms', 'bedrooms', 'finished_sqft', 'last_sold_date', 'last_sold_price', 'lot_size_sqft', 'tax_assessment', 'tax_assessment_year', 'usecode', 'year_built'}\n",
    "vars_full_address  = {'latitude', 'longitude'}\n",
    "vars_zestimate     = {'amount','amount_change_30days'}\n",
    "# In[8]:\n",
    "\n",
    "#address = \"5164 Gallatin Pl, Boulder, CO\"\n",
    "#postal_code = \"80303\"\n",
    "#n = 0\n",
    "\n",
    "# allocate vars\n",
    "data_out = dict()\n",
    "\n",
    "for v in vars_extended_data:\n",
    "    data_out[v] = []\n",
    "for v in vars_full_address:\n",
    "    data_out[v] = []\n",
    "for v in vars_zestimate:\n",
    "    data_out[v] = []\n",
    "\n",
    "for nm in addr_houses:\n",
    "    address = nm[:-5]\n",
    "    postal_code = nm[-5:]\n",
    "    #if __name__==\"__main__\":\n",
    "    key = \"\"\n",
    "    with open(\"/Users/giglio/Desktop/ACC_JISAO/code/zillow_us/zillow_env/bin/config/zillow_key.conf\", 'r') as f:\n",
    "        key = f.readline().replace(\"\\n\", \"\")\n",
    "\n",
    "    api = zillow.ValuationApi()\n",
    "    data = api.GetDeepSearchResults(key, address, postal_code)\n",
    "\n",
    "    # pp = pprint.PrettyPrinter(indent=4)\n",
    "    # pp.pprint(data.get_dict())\n",
    "\n",
    "    for v in vars_extended_data:\n",
    "        data_out[v].append(getattr(data.extended_data,v))\n",
    "\n",
    "    for v in vars_full_address:\n",
    "        data_out[v].append(getattr(data.full_address,v))\n",
    "\n",
    "    for v in vars_zestimate:\n",
    "        data_out[v].append(getattr(data.zestimate,v))\n",
    "\n",
    "    # for v in vars_extended_data:\n",
    "    #     if n==0:\n",
    "    #         data_out[v] = getattr(data.extended_data,v)\n",
    "    #         data_out\n",
    "    #     else:\n",
    "    #         data_out[v] = [data_out[v], (getattr(data.extended_data,v))]\n",
    "    #\n",
    "    # n = n+1\n",
    "\n",
    "\n",
    "# In[9]:\n",
    "\n",
    "for v in data_out.keys():\n",
    "    print(v)\n",
    "    print(data_out[v])\n",
    "    "
   ]
  },
  {
   "cell_type": "code",
   "execution_count": 2,
   "metadata": {
    "collapsed": false
   },
   "outputs": [
    {
     "name": "stdout",
     "output_type": "stream",
     "text": [
      "[822694, 723022, 722336, 503982, 504321, 968684, 798104, 899697, 616180, 515820, 640535, 711826, 890224, 617984, 840146, 620984, 850691, 854731, 859423, 500595, 736072, 722023, 567973, 714162, 738482]\n"
     ]
    }
   ],
   "source": [
    "print(data_out['amount'])"
   ]
  },
  {
   "cell_type": "code",
   "execution_count": 3,
   "metadata": {
    "collapsed": false
   },
   "outputs": [
    {
     "data": {
      "text/plain": [
       "list"
      ]
     },
     "execution_count": 3,
     "metadata": {},
     "output_type": "execute_result"
    }
   ],
   "source": [
    "type(data_out['amount'])"
   ]
  },
  {
   "cell_type": "code",
   "execution_count": 9,
   "metadata": {
    "collapsed": false
   },
   "outputs": [
    {
     "data": {
      "image/png": "[encoded data removed]",
      "text/plain": [
       "<matplotlib.figure.Figure at 0x114683ef0>"
      ]
     },
     "metadata": {},
     "output_type": "display_data"
    }
   ],
   "source": [
    "plt.plot(data_out['amount'],'-o')\n",
    "plt.show()"
   ]
  },
  {
   "cell_type": "code",
   "execution_count": 7,
   "metadata": {
    "collapsed": false
   },
   "outputs": [
    {
     "data": {
      "image/png": "[encoded data removed]",
      "text/plain": [
       "<matplotlib.figure.Figure at 0x1145b2f28>"
      ]
     },
     "metadata": {},
     "output_type": "display_data"
    }
   ],
   "source": [
    "plt.plot(data_out['longitude'],data_out['latitude'],'o')\n",
    "plt.show()"
   ]
  },
  {
   "cell_type": "code",
   "execution_count": null,
   "metadata": {
    "collapsed": true
   },
   "outputs": [],
   "source": []
  }
 ],
 "metadata": {
  "kernelspec": {
   "display_name": "Python 3",
   "language": "python",
   "name": "python3"
  },
  "language_info": {
   "codemirror_mode": {
    "name": "ipython",
    "version": 3
   },
   "file_extension": ".py",
   "mimetype": "text/x-python",
   "name": "python",
   "nbconvert_exporter": "python",
   "pygments_lexer": "ipython3",
   "version": "3.4.4"
  }
 },
 "nbformat": 4,
 "nbformat_minor": 0
}
